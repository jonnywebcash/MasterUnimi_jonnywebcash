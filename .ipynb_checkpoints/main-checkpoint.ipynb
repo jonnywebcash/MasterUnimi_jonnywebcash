{
 "cells": [
  {
   "cell_type": "markdown",
   "id": "3a5df64f",
   "metadata": {},
   "source": [
    "# **Progetto 6: I mammiferi depongono uova?**"
   ]
  },
  {
   "cell_type": "markdown",
   "id": "cb3a48b3",
   "metadata": {},
   "source": [
    "I dataset Zoo fornisce una serie di dati relativi a diverse specie animali al fine di classificarle in 7 diverse\n",
    "classi, ovvero mammiferi, uccelli, rettili, pesci, anfibi, insetti e invertebrati.\n",
    "Seguendo un approccio non supervisionato, ovvero senza osservare la classe di ogni specie animale, il\n",
    "progetto mira a confrontare le diverse specie e raggruparle utilizzando diversi algoritmi di clustering.\n",
    "Confrontando poi il risultato di ogni algoritmo, si intende mostrare quale algoritmo di clustering approssimi\n",
    "meglio le classi fornite dal dataset.\n",
    "Si richiede pertanto non solo di definire una metodologia per confrontare i risulati del clustering con la\n",
    "classificazione attesa, ma anche di descrivere in modo sintetico le caratteristiche distintive di ciascun cluster\n",
    "di specie prodotto dall'algoritmo oggetto della valutazione."
   ]
  },
  {
   "cell_type": "markdown",
   "id": "5538caa4",
   "metadata": {},
   "source": [
    "# **Esplorazione del dataset**"
   ]
  },
  {
   "cell_type": "markdown",
   "id": "a63d5f29",
   "metadata": {},
   "source": [
    "In the \"Dataset\" there are:\n",
    "- \"zoo.name\": il file contenente la descrizione dei 18 attributi espressi sotto forma di colonne nel files \"zoo.data\"\n",
    "        1. animal name:      Unique for each instance\n",
    "        2. hair\t\tBoolean\n",
    "        3. feathers\t\tBoolean\n",
    "        4. eggs\t\tBoolean\n",
    "        5. milk\t\tBoolean\n",
    "        6. airborne\t\tBoolean\n",
    "        7. aquatic\t\tBoolean\n",
    "        8. predator\t\tBoolean\n",
    "        9. toothed\t\tBoolean\n",
    "        10. backbone\t\tBoolean\n",
    "        11. breathes\t\tBoolean\n",
    "        12. venomous\t\tBoolean\n",
    "        13. fins\t\tBoolean\n",
    "        14. legs\t\tNumeric (set of values: {0,2,4,5,6,8})\n",
    "        15. tail\t\tBoolean\n",
    "        16. domestic\t\tBoolean\n",
    "        17. catsize\t\tBoolean\n",
    "        18. type\t\tNumeric (integer values in range [1,7])\n",
    "- \"zoo.data\": dataset contenente in ogni riga la descrizione di ogni animale come 18 attributi espressi sotto forma di colonne\n",
    "- \"class.csv\": il sataset delle classi o file dei risultati, contiene al suo interno la suddivisione nelle 7 diverse classi dei vari elementi del dataset \"zoo.data\". Di ogni classe espressa sotto forma di riga sono riportate le seguenti informazioni:\n",
    " Class_Number,Number_Of_Animal_Species_In_Class,Class_Type,Animal_Names"
   ]
  },
  {
   "cell_type": "code",
   "execution_count": null,
   "id": "38360f0c",
   "metadata": {},
   "outputs": [],
   "source": []
  }
 ],
 "metadata": {
  "kernelspec": {
   "display_name": "Python 3 (ipykernel)",
   "language": "python",
   "name": "python3"
  },
  "language_info": {
   "codemirror_mode": {
    "name": "ipython",
    "version": 3
   },
   "file_extension": ".py",
   "mimetype": "text/x-python",
   "name": "python",
   "nbconvert_exporter": "python",
   "pygments_lexer": "ipython3",
   "version": "3.9.13"
  }
 },
 "nbformat": 4,
 "nbformat_minor": 5
}
